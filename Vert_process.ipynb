{
 "cells": [
  {
   "cell_type": "code",
   "execution_count": null,
   "metadata": {},
   "outputs": [],
   "source": [
    "from dash import Dash, html, dcc, callback, Output, Input\n",
    "import dash_bootstrap_components as dbc\n",
    "import plotly.graph_objects as go\n",
    "from plotly.subplots import make_subplots\n",
    "import numpy as np\n",
    "import matplotlib.pyplot as plt\n",
    "from matplotlib.ticker import EngFormatter\n",
    "import phoeniks as pk"
   ]
  },
  {
   "cell_type": "code",
   "execution_count": null,
   "metadata": {},
   "outputs": [],
   "source": [
    "filename = \"Data/new_data/VertSweep_320V_10^7VpA_purged_tc5ms_Gathering_Quartz_ref.dat\"\n",
    "time, rawdata, stats, unique_values = pk.reader.read_VertFile(filename)\n",
    "\n"
   ]
  },
  {
   "cell_type": "code",
   "execution_count": null,
   "metadata": {},
   "outputs": [],
   "source": [
    "data = pk.thz_data.Data(time = time, \n",
    "                        td_reference = stats[50]['mean'], \n",
    "                        td_sample = stats[20]['mean'],\n",
    "                        thickness = 2.2e-3,\n",
    "                        td_ref_std = stats[50]['std_dev'],\n",
    "                        td_samp_std = stats[20]['std_dev'])"
   ]
  },
  {
   "cell_type": "code",
   "execution_count": null,
   "metadata": {},
   "outputs": [],
   "source": [
    "# perform a DC offset of the data\n",
    "data.td_reference = data.linear_offset(data.td_reference)\n",
    "data.td_sample = data.linear_offset(data.td_sample)\n",
    "# moves the first peak to 0 ps which makes the plot nicer\n",
    "data.offset_time_to_reference_peak()"
   ]
  },
  {
   "cell_type": "code",
   "execution_count": null,
   "metadata": {},
   "outputs": [],
   "source": [
    "# run iteractive interface\n",
    "data.generate_layout()\n",
    "data.app.run_server(jupyter_mode='tab')"
   ]
  },
  {
   "cell_type": "code",
   "execution_count": null,
   "metadata": {},
   "outputs": [],
   "source": [
    "print(data.zero_padding)"
   ]
  },
  {
   "cell_type": "code",
   "execution_count": null,
   "metadata": {},
   "outputs": [],
   "source": [
    "import matplotlib.pyplot as plt\n",
    "\n",
    "\n",
    "# Create the plot\n",
    "plt.figure(figsize=(10, 6))\n",
    "\n",
    "# Plot the first trace\n",
    "plt.plot(data.time, data.td_reference, label='mean', color='blue')\n",
    "\n",
    "# Plot the second trace\n",
    "plt.plot(data.time, data.td_ref_std, label='std', color='black')\n",
    "\n",
    "# Add title and labels\n",
    "plt.title('ref scans')\n",
    "plt.xlabel('time')\n",
    "plt.ylabel('amplitude')\n",
    "\n",
    "# Add a legend\n",
    "plt.legend()\n",
    "\n",
    "# Show the plot\n",
    "plt.show()\n"
   ]
  },
  {
   "cell_type": "code",
   "execution_count": null,
   "metadata": {},
   "outputs": [],
   "source": [
    "import matplotlib.pyplot as plt\n",
    "\n",
    "\n",
    "# Create the plot\n",
    "plt.figure(figsize=(10, 6))\n",
    "\n",
    "# Plot the first trace\n",
    "plt.plot(data.time, data.td_sample, label='mean', color='blue')\n",
    "\n",
    "# Plot the second trace\n",
    "plt.plot(data.time, data.td_samp_std, label='std', color='black')\n",
    "\n",
    "# Add title and labels\n",
    "plt.title('ref scans')\n",
    "plt.xlabel('time')\n",
    "plt.ylabel('amplitude')\n",
    "\n",
    "# Add a legend\n",
    "plt.legend()\n",
    "\n",
    "# Show the plot\n",
    "plt.show()\n"
   ]
  }
 ],
 "metadata": {
  "kernelspec": {
   "display_name": "development",
   "language": "python",
   "name": "python3"
  },
  "language_info": {
   "codemirror_mode": {
    "name": "ipython",
    "version": 3
   },
   "file_extension": ".py",
   "mimetype": "text/x-python",
   "name": "python",
   "nbconvert_exporter": "python",
   "pygments_lexer": "ipython3",
   "version": "3.11.9"
  }
 },
 "nbformat": 4,
 "nbformat_minor": 2
}
