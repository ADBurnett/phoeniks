{
 "cells": [
  {
   "cell_type": "markdown",
   "metadata": {},
   "source": [
    "quick demo to read in bern reflectivity data"
   ]
  },
  {
   "cell_type": "code",
   "execution_count": 1,
   "metadata": {},
   "outputs": [],
   "source": [
    "from dash import Dash, html, dcc, callback, Output, Input\n",
    "import dash_bootstrap_components as dbc\n",
    "import plotly.graph_objects as go\n",
    "from plotly.subplots import make_subplots\n",
    "import numpy as np\n",
    "import matplotlib.pyplot as plt\n",
    "from matplotlib.ticker import EngFormatter\n",
    "import phoeniks as pk"
   ]
  },
  {
   "cell_type": "markdown",
   "metadata": {},
   "source": [
    "Or Could be created by passing file names to the Phoeniks reader functions"
   ]
  },
  {
   "cell_type": "code",
   "execution_count": 2,
   "metadata": {},
   "outputs": [],
   "source": [
    "ref_file = \"Data/ref.csv\"\n",
    "sample_file = \"Data/sig.csv\"\n",
    "\n",
    "data = pk.reader.create_data(ref_file, sample_file, reader='XY', sample_thickness=450e-6, sample_name=None)"
   ]
  },
  {
   "cell_type": "code",
   "execution_count": 3,
   "metadata": {},
   "outputs": [],
   "source": [
    "\n",
    "data.td_reference = data.linear_offset(data.td_reference)\n",
    "data.td_sample = data.linear_offset(data.td_sample)\n",
    "#data.offset_time_to_reference_peak()\n",
    "\n",
    "data.mode = 'reference_sample'"
   ]
  },
  {
   "cell_type": "code",
   "execution_count": 4,
   "metadata": {},
   "outputs": [
    {
     "name": "stdout",
     "output_type": "stream",
     "text": [
      "Dash app running on http://127.0.0.1:8050/\n"
     ]
    },
    {
     "data": {
      "application/javascript": "window.open('http://127.0.0.1:8050/')",
      "text/plain": [
       "<IPython.core.display.Javascript object>"
      ]
     },
     "metadata": {},
     "output_type": "display_data"
    },
    {
     "name": "stderr",
     "output_type": "stream",
     "text": [
      "[2024-08-03 15:44:32,267] ERROR in app: Exception on /_dash-update-component [POST]\n",
      "Traceback (most recent call last):\n",
      "  File \"c:\\Users\\eenadbu\\PortableApps\\Git\\phoeniks\\phoeniks\\thz_data.py\", line 185, in get_window\n",
      "    window[start:end] = window_func(length, alpha, sym=False)\n",
      "    ~~~~~~^^^^^^^^^^^\n",
      "ValueError: could not broadcast input array from shape (3600,) into shape (0,)\n",
      "\n",
      "During handling of the above exception, another exception occurred:\n",
      "\n",
      "Traceback (most recent call last):\n",
      "  File \"c:\\Users\\eenadbu\\AppData\\Local\\mambaforge\\envs\\development\\Lib\\site-packages\\flask\\app.py\", line 2529, in wsgi_app\n",
      "    response = self.full_dispatch_request()\n",
      "               ^^^^^^^^^^^^^^^^^^^^^^^^^^^^\n",
      "  File \"c:\\Users\\eenadbu\\AppData\\Local\\mambaforge\\envs\\development\\Lib\\site-packages\\flask\\app.py\", line 1825, in full_dispatch_request\n",
      "    rv = self.handle_user_exception(e)\n",
      "         ^^^^^^^^^^^^^^^^^^^^^^^^^^^^^\n",
      "  File \"c:\\Users\\eenadbu\\AppData\\Local\\mambaforge\\envs\\development\\Lib\\site-packages\\flask\\app.py\", line 1823, in full_dispatch_request\n",
      "    rv = self.dispatch_request()\n",
      "         ^^^^^^^^^^^^^^^^^^^^^^^\n",
      "  File \"c:\\Users\\eenadbu\\AppData\\Local\\mambaforge\\envs\\development\\Lib\\site-packages\\flask\\app.py\", line 1799, in dispatch_request\n",
      "    return self.ensure_sync(self.view_functions[rule.endpoint])(**view_args)\n",
      "           ^^^^^^^^^^^^^^^^^^^^^^^^^^^^^^^^^^^^^^^^^^^^^^^^^^^^^^^^^^^^^^^^^\n",
      "  File \"c:\\Users\\eenadbu\\AppData\\Local\\mambaforge\\envs\\development\\Lib\\site-packages\\dash\\dash.py\", line 1310, in dispatch\n",
      "    ctx.run(\n",
      "  File \"c:\\Users\\eenadbu\\AppData\\Local\\mambaforge\\envs\\development\\Lib\\site-packages\\dash\\_callback.py\", line 442, in add_context\n",
      "    output_value = func(*func_args, **func_kwargs)  # %% callback invoked %%\n",
      "                   ^^^^^^^^^^^^^^^^^^^^^^^^^^^^^^^\n",
      "  File \"c:\\Users\\eenadbu\\PortableApps\\Git\\phoeniks\\phoeniks\\thz_data.py\", line 390, in update_figure\n",
      "    self.window_traces(start=rng[0], end=rng[1], windows=window_choice, alpha=curve)\n",
      "  File \"c:\\Users\\eenadbu\\PortableApps\\Git\\phoeniks\\phoeniks\\thz_data.py\", line 206, in window_traces\n",
      "    self.samp_window = self.get_window(start, end, windows, alpha)\n",
      "                       ^^^^^^^^^^^^^^^^^^^^^^^^^^^^^^^^^^^^^^^^^^^\n",
      "  File \"c:\\Users\\eenadbu\\PortableApps\\Git\\phoeniks\\phoeniks\\thz_data.py\", line 192, in get_window\n",
      "    raise ValueError(\"Your window is larger than the data:\", e)\n",
      "ValueError: ('Your window is larger than the data:', ValueError('could not broadcast input array from shape (3600,) into shape (0,)'))\n",
      "[2024-08-03 15:44:36,137] ERROR in app: Exception on /_dash-update-component [POST]\n",
      "Traceback (most recent call last):\n",
      "  File \"c:\\Users\\eenadbu\\PortableApps\\Git\\phoeniks\\phoeniks\\thz_data.py\", line 185, in get_window\n",
      "    window[start:end] = window_func(length, alpha, sym=False)\n",
      "    ~~~~~~^^^^^^^^^^^\n",
      "ValueError: could not broadcast input array from shape (3594,) into shape (0,)\n",
      "\n",
      "During handling of the above exception, another exception occurred:\n",
      "\n",
      "Traceback (most recent call last):\n",
      "  File \"c:\\Users\\eenadbu\\AppData\\Local\\mambaforge\\envs\\development\\Lib\\site-packages\\flask\\app.py\", line 2529, in wsgi_app\n",
      "    response = self.full_dispatch_request()\n",
      "               ^^^^^^^^^^^^^^^^^^^^^^^^^^^^\n",
      "  File \"c:\\Users\\eenadbu\\AppData\\Local\\mambaforge\\envs\\development\\Lib\\site-packages\\flask\\app.py\", line 1825, in full_dispatch_request\n",
      "    rv = self.handle_user_exception(e)\n",
      "         ^^^^^^^^^^^^^^^^^^^^^^^^^^^^^\n",
      "  File \"c:\\Users\\eenadbu\\AppData\\Local\\mambaforge\\envs\\development\\Lib\\site-packages\\flask\\app.py\", line 1823, in full_dispatch_request\n",
      "    rv = self.dispatch_request()\n",
      "         ^^^^^^^^^^^^^^^^^^^^^^^\n",
      "  File \"c:\\Users\\eenadbu\\AppData\\Local\\mambaforge\\envs\\development\\Lib\\site-packages\\flask\\app.py\", line 1799, in dispatch_request\n",
      "    return self.ensure_sync(self.view_functions[rule.endpoint])(**view_args)\n",
      "           ^^^^^^^^^^^^^^^^^^^^^^^^^^^^^^^^^^^^^^^^^^^^^^^^^^^^^^^^^^^^^^^^^\n",
      "  File \"c:\\Users\\eenadbu\\AppData\\Local\\mambaforge\\envs\\development\\Lib\\site-packages\\dash\\dash.py\", line 1310, in dispatch\n",
      "    ctx.run(\n",
      "  File \"c:\\Users\\eenadbu\\AppData\\Local\\mambaforge\\envs\\development\\Lib\\site-packages\\dash\\_callback.py\", line 442, in add_context\n",
      "    output_value = func(*func_args, **func_kwargs)  # %% callback invoked %%\n",
      "                   ^^^^^^^^^^^^^^^^^^^^^^^^^^^^^^^\n",
      "  File \"c:\\Users\\eenadbu\\PortableApps\\Git\\phoeniks\\phoeniks\\thz_data.py\", line 390, in update_figure\n",
      "    self.window_traces(start=rng[0], end=rng[1], windows=window_choice, alpha=curve)\n",
      "  File \"c:\\Users\\eenadbu\\PortableApps\\Git\\phoeniks\\phoeniks\\thz_data.py\", line 206, in window_traces\n",
      "    self.samp_window = self.get_window(start, end, windows, alpha)\n",
      "                       ^^^^^^^^^^^^^^^^^^^^^^^^^^^^^^^^^^^^^^^^^^^\n",
      "  File \"c:\\Users\\eenadbu\\PortableApps\\Git\\phoeniks\\phoeniks\\thz_data.py\", line 192, in get_window\n",
      "    raise ValueError(\"Your window is larger than the data:\", e)\n",
      "ValueError: ('Your window is larger than the data:', ValueError('could not broadcast input array from shape (3594,) into shape (0,)'))\n",
      "[2024-08-03 15:44:40,767] ERROR in app: Exception on /_dash-update-component [POST]\n",
      "Traceback (most recent call last):\n",
      "  File \"c:\\Users\\eenadbu\\PortableApps\\Git\\phoeniks\\phoeniks\\thz_data.py\", line 185, in get_window\n",
      "    window[start:end] = window_func(length, alpha, sym=False)\n",
      "    ~~~~~~^^^^^^^^^^^\n",
      "ValueError: could not broadcast input array from shape (3160,) into shape (0,)\n",
      "\n",
      "During handling of the above exception, another exception occurred:\n",
      "\n",
      "Traceback (most recent call last):\n",
      "  File \"c:\\Users\\eenadbu\\AppData\\Local\\mambaforge\\envs\\development\\Lib\\site-packages\\flask\\app.py\", line 2529, in wsgi_app\n",
      "    response = self.full_dispatch_request()\n",
      "               ^^^^^^^^^^^^^^^^^^^^^^^^^^^^\n",
      "  File \"c:\\Users\\eenadbu\\AppData\\Local\\mambaforge\\envs\\development\\Lib\\site-packages\\flask\\app.py\", line 1825, in full_dispatch_request\n",
      "    rv = self.handle_user_exception(e)\n",
      "         ^^^^^^^^^^^^^^^^^^^^^^^^^^^^^\n",
      "  File \"c:\\Users\\eenadbu\\AppData\\Local\\mambaforge\\envs\\development\\Lib\\site-packages\\flask\\app.py\", line 1823, in full_dispatch_request\n",
      "    rv = self.dispatch_request()\n",
      "         ^^^^^^^^^^^^^^^^^^^^^^^\n",
      "  File \"c:\\Users\\eenadbu\\AppData\\Local\\mambaforge\\envs\\development\\Lib\\site-packages\\flask\\app.py\", line 1799, in dispatch_request\n",
      "    return self.ensure_sync(self.view_functions[rule.endpoint])(**view_args)\n",
      "           ^^^^^^^^^^^^^^^^^^^^^^^^^^^^^^^^^^^^^^^^^^^^^^^^^^^^^^^^^^^^^^^^^\n",
      "  File \"c:\\Users\\eenadbu\\AppData\\Local\\mambaforge\\envs\\development\\Lib\\site-packages\\dash\\dash.py\", line 1310, in dispatch\n",
      "    ctx.run(\n",
      "  File \"c:\\Users\\eenadbu\\AppData\\Local\\mambaforge\\envs\\development\\Lib\\site-packages\\dash\\_callback.py\", line 442, in add_context\n",
      "    output_value = func(*func_args, **func_kwargs)  # %% callback invoked %%\n",
      "                   ^^^^^^^^^^^^^^^^^^^^^^^^^^^^^^^\n",
      "  File \"c:\\Users\\eenadbu\\PortableApps\\Git\\phoeniks\\phoeniks\\thz_data.py\", line 390, in update_figure\n",
      "    self.window_traces(start=rng[0], end=rng[1], windows=window_choice, alpha=curve)\n",
      "  File \"c:\\Users\\eenadbu\\PortableApps\\Git\\phoeniks\\phoeniks\\thz_data.py\", line 206, in window_traces\n",
      "    self.samp_window = self.get_window(start, end, windows, alpha)\n",
      "                       ^^^^^^^^^^^^^^^^^^^^^^^^^^^^^^^^^^^^^^^^^^^\n",
      "  File \"c:\\Users\\eenadbu\\PortableApps\\Git\\phoeniks\\phoeniks\\thz_data.py\", line 192, in get_window\n",
      "    raise ValueError(\"Your window is larger than the data:\", e)\n",
      "ValueError: ('Your window is larger than the data:', ValueError('could not broadcast input array from shape (3160,) into shape (0,)'))\n",
      "[2024-08-03 15:44:42,710] ERROR in app: Exception on /_dash-update-component [POST]\n",
      "Traceback (most recent call last):\n",
      "  File \"c:\\Users\\eenadbu\\PortableApps\\Git\\phoeniks\\phoeniks\\thz_data.py\", line 185, in get_window\n",
      "    window[start:end] = window_func(length, alpha, sym=False)\n",
      "    ~~~~~~^^^^^^^^^^^\n",
      "ValueError: could not broadcast input array from shape (3128,) into shape (0,)\n",
      "\n",
      "During handling of the above exception, another exception occurred:\n",
      "\n",
      "Traceback (most recent call last):\n",
      "  File \"c:\\Users\\eenadbu\\AppData\\Local\\mambaforge\\envs\\development\\Lib\\site-packages\\flask\\app.py\", line 2529, in wsgi_app\n",
      "    response = self.full_dispatch_request()\n",
      "               ^^^^^^^^^^^^^^^^^^^^^^^^^^^^\n",
      "  File \"c:\\Users\\eenadbu\\AppData\\Local\\mambaforge\\envs\\development\\Lib\\site-packages\\flask\\app.py\", line 1825, in full_dispatch_request\n",
      "    rv = self.handle_user_exception(e)\n",
      "         ^^^^^^^^^^^^^^^^^^^^^^^^^^^^^\n",
      "  File \"c:\\Users\\eenadbu\\AppData\\Local\\mambaforge\\envs\\development\\Lib\\site-packages\\flask\\app.py\", line 1823, in full_dispatch_request\n",
      "    rv = self.dispatch_request()\n",
      "         ^^^^^^^^^^^^^^^^^^^^^^^\n",
      "  File \"c:\\Users\\eenadbu\\AppData\\Local\\mambaforge\\envs\\development\\Lib\\site-packages\\flask\\app.py\", line 1799, in dispatch_request\n",
      "    return self.ensure_sync(self.view_functions[rule.endpoint])(**view_args)\n",
      "           ^^^^^^^^^^^^^^^^^^^^^^^^^^^^^^^^^^^^^^^^^^^^^^^^^^^^^^^^^^^^^^^^^\n",
      "  File \"c:\\Users\\eenadbu\\AppData\\Local\\mambaforge\\envs\\development\\Lib\\site-packages\\dash\\dash.py\", line 1310, in dispatch\n",
      "    ctx.run(\n",
      "  File \"c:\\Users\\eenadbu\\AppData\\Local\\mambaforge\\envs\\development\\Lib\\site-packages\\dash\\_callback.py\", line 442, in add_context\n",
      "    output_value = func(*func_args, **func_kwargs)  # %% callback invoked %%\n",
      "                   ^^^^^^^^^^^^^^^^^^^^^^^^^^^^^^^\n",
      "  File \"c:\\Users\\eenadbu\\PortableApps\\Git\\phoeniks\\phoeniks\\thz_data.py\", line 390, in update_figure\n",
      "    self.window_traces(start=rng[0], end=rng[1], windows=window_choice, alpha=curve)\n",
      "  File \"c:\\Users\\eenadbu\\PortableApps\\Git\\phoeniks\\phoeniks\\thz_data.py\", line 206, in window_traces\n",
      "    self.samp_window = self.get_window(start, end, windows, alpha)\n",
      "                       ^^^^^^^^^^^^^^^^^^^^^^^^^^^^^^^^^^^^^^^^^^^\n",
      "  File \"c:\\Users\\eenadbu\\PortableApps\\Git\\phoeniks\\phoeniks\\thz_data.py\", line 192, in get_window\n",
      "    raise ValueError(\"Your window is larger than the data:\", e)\n",
      "ValueError: ('Your window is larger than the data:', ValueError('could not broadcast input array from shape (3128,) into shape (0,)'))\n",
      "[2024-08-03 15:44:59,390] ERROR in app: Exception on /_dash-update-component [POST]\n",
      "Traceback (most recent call last):\n",
      "  File \"c:\\Users\\eenadbu\\PortableApps\\Git\\phoeniks\\phoeniks\\thz_data.py\", line 185, in get_window\n",
      "    window[start:end] = window_func(length, alpha, sym=False)\n",
      "    ~~~~~~^^^^^^^^^^^\n",
      "ValueError: could not broadcast input array from shape (2096,) into shape (0,)\n",
      "\n",
      "During handling of the above exception, another exception occurred:\n",
      "\n",
      "Traceback (most recent call last):\n",
      "  File \"c:\\Users\\eenadbu\\AppData\\Local\\mambaforge\\envs\\development\\Lib\\site-packages\\flask\\app.py\", line 2529, in wsgi_app\n",
      "    response = self.full_dispatch_request()\n",
      "               ^^^^^^^^^^^^^^^^^^^^^^^^^^^^\n",
      "  File \"c:\\Users\\eenadbu\\AppData\\Local\\mambaforge\\envs\\development\\Lib\\site-packages\\flask\\app.py\", line 1825, in full_dispatch_request\n",
      "    rv = self.handle_user_exception(e)\n",
      "         ^^^^^^^^^^^^^^^^^^^^^^^^^^^^^\n",
      "  File \"c:\\Users\\eenadbu\\AppData\\Local\\mambaforge\\envs\\development\\Lib\\site-packages\\flask\\app.py\", line 1823, in full_dispatch_request\n",
      "    rv = self.dispatch_request()\n",
      "         ^^^^^^^^^^^^^^^^^^^^^^^\n",
      "  File \"c:\\Users\\eenadbu\\AppData\\Local\\mambaforge\\envs\\development\\Lib\\site-packages\\flask\\app.py\", line 1799, in dispatch_request\n",
      "    return self.ensure_sync(self.view_functions[rule.endpoint])(**view_args)\n",
      "           ^^^^^^^^^^^^^^^^^^^^^^^^^^^^^^^^^^^^^^^^^^^^^^^^^^^^^^^^^^^^^^^^^\n",
      "  File \"c:\\Users\\eenadbu\\AppData\\Local\\mambaforge\\envs\\development\\Lib\\site-packages\\dash\\dash.py\", line 1310, in dispatch\n",
      "    ctx.run(\n",
      "  File \"c:\\Users\\eenadbu\\AppData\\Local\\mambaforge\\envs\\development\\Lib\\site-packages\\dash\\_callback.py\", line 442, in add_context\n",
      "    output_value = func(*func_args, **func_kwargs)  # %% callback invoked %%\n",
      "                   ^^^^^^^^^^^^^^^^^^^^^^^^^^^^^^^\n",
      "  File \"c:\\Users\\eenadbu\\PortableApps\\Git\\phoeniks\\phoeniks\\thz_data.py\", line 390, in update_figure\n",
      "    self.window_traces(start=rng[0], end=rng[1], windows=window_choice, alpha=curve)\n",
      "  File \"c:\\Users\\eenadbu\\PortableApps\\Git\\phoeniks\\phoeniks\\thz_data.py\", line 206, in window_traces\n",
      "    self.samp_window = self.get_window(start, end, windows, alpha)\n",
      "                       ^^^^^^^^^^^^^^^^^^^^^^^^^^^^^^^^^^^^^^^^^^^\n",
      "  File \"c:\\Users\\eenadbu\\PortableApps\\Git\\phoeniks\\phoeniks\\thz_data.py\", line 192, in get_window\n",
      "    raise ValueError(\"Your window is larger than the data:\", e)\n",
      "ValueError: ('Your window is larger than the data:', ValueError('could not broadcast input array from shape (2096,) into shape (0,)'))\n",
      "c:\\Users\\eenadbu\\PortableApps\\Git\\phoeniks\\phoeniks\\thz_data.py:297: RuntimeWarning:\n",
      "\n",
      "invalid value encountered in log\n",
      "\n",
      "c:\\Users\\eenadbu\\PortableApps\\Git\\phoeniks\\phoeniks\\thz_data.py:297: RuntimeWarning:\n",
      "\n",
      "invalid value encountered in log\n",
      "\n"
     ]
    }
   ],
   "source": [
    "# run iteractive interface\n",
    "data.generate_layout()\n",
    "data.app.run_server(jupyter_mode='tab')\n"
   ]
  },
  {
   "cell_type": "markdown",
   "metadata": {},
   "source": [
    "You can then used the save functionality to save a file in a range of formats, the first exports the data object as a pickle file "
   ]
  },
  {
   "cell_type": "code",
   "execution_count": 25,
   "metadata": {},
   "outputs": [
    {
     "data": {
      "image/png": "[encoded data removed]",
      "text/plain": [
       "<Figure size 640x480 with 1 Axes>"
      ]
     },
     "metadata": {},
     "output_type": "display_data"
    }
   ],
   "source": [
    "x = data.frequency/1E12\n",
    "y = np.abs(data.fd_reference)/np.abs(data.fd_sample)\n",
    "plt.plot(x,y)\n",
    "\n",
    "plt.xlim(0, 2.5)  # Replace 0 and 12 with your desired range\n",
    "plt.ylim(0, 40)\n",
    "# Rest of the code remains the same\n",
    "plt.xlabel(\"Frequency (THz)\")\n",
    "plt.ylabel(\"Reflectivity\")\n",
    "plt.title(\"Frequency vs. Reflectivity\")\n",
    "plt.grid()\n",
    "plt.show()"
   ]
  }
 ],
 "metadata": {
  "kernelspec": {
   "display_name": "development",
   "language": "python",
   "name": "python3"
  },
  "language_info": {
   "codemirror_mode": {
    "name": "ipython",
    "version": 3
   },
   "file_extension": ".py",
   "mimetype": "text/x-python",
   "name": "python",
   "nbconvert_exporter": "python",
   "pygments_lexer": "ipython3",
   "version": "3.11.9"
  }
 },
 "nbformat": 4,
 "nbformat_minor": 2
}
