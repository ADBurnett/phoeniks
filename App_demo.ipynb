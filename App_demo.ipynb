{
 "cells": [
  {
   "cell_type": "code",
   "execution_count": 1,
   "metadata": {},
   "outputs": [],
   "source": [
    "from dash import Dash, html, dcc, callback, Output, Input\n",
    "import dash_bootstrap_components as dbc\n",
    "import plotly.graph_objects as go\n",
    "from plotly.subplots import make_subplots\n",
    "import numpy as np\n",
    "import matplotlib.pyplot as plt\n",
    "from matplotlib.ticker import EngFormatter\n",
    "import phoeniks as pk"
   ]
  },
  {
   "cell_type": "markdown",
   "metadata": {},
   "source": [
    "Data can be created manually by passing numpy variables and additional information to the Pheoniks Data class"
   ]
  },
  {
   "cell_type": "code",
   "execution_count": null,
   "metadata": {},
   "outputs": [],
   "source": [
    "ref_file = \"examples/05_Multiple_Measurements/td_reference_mean.txt\"\n",
    "ref = np.loadtxt(ref_file)\n",
    "ref, ref.shape\n",
    "time = 1e-12 * ref[:, 0]\n",
    "\n",
    "sam_file = \"examples/05_Multiple_Measurements/td_sample_mean.txt\"\n",
    "sam = np.loadtxt(sam_file)\n",
    "sam, sam.shape\n",
    "\n",
    "dark_file = \"examples/05_Multiple_Measurements/td_dark_mean.txt\"\n",
    "dark = np.loadtxt(dark_file)\n",
    "dark, dark.shape\n",
    "\n",
    "fd_sample_std_real, fd_sample_std_imag = np.loadtxt(\"examples/05_Multiple_Measurements/fd_sample_std.txt\")\n",
    "fd_reference_std_real, fd_reference_std_imag = np.loadtxt(\"examples/05_Multiple_Measurements/fd_reference_std.txt\")\n",
    "fd_dark_std_real, fd_dark_std_imag = np.loadtxt(\"examples/05_Multiple_Measurements/fd_dark_std.txt\")\n",
    "\n",
    "data = pk.thz_data.Data(time = time, \n",
    "                        td_reference = ref[:, 1], \n",
    "                        td_sample = sam[:, 1],\n",
    "                        thickness = 450e-6,\n",
    "                        td_dark = dark[:, 1],\n",
    "                        fd_reference_std = fd_reference_std_real + 1j * fd_reference_std_imag,\n",
    "                        fd_sample_std = fd_sample_std_real + 1j * fd_sample_std_imag,\n",
    "                        fd_dark_std = fd_dark_std_real + 1j * fd_dark_std_imag)\n"
   ]
  },
  {
   "cell_type": "markdown",
   "metadata": {},
   "source": [
    "Or Could be created by passing file names to the Phoeniks reader functions"
   ]
  },
  {
   "cell_type": "code",
   "execution_count": 2,
   "metadata": {},
   "outputs": [],
   "source": [
    "ref_file = \"examples/05_Multiple_Measurements/td_reference_mean.txt\"\n",
    "sample_file = \"examples/05_Multiple_Measurements/td_sample_mean.txt\"\n",
    "dark_file = \"examples/05_Multiple_Measurements/td_dark_mean.txt\"\n",
    "fd_sample_std = \"examples/05_Multiple_Measurements/fd_sample_std.txt\"\n",
    "fd_reference_std = \"examples/05_Multiple_Measurements/fd_reference_std.txt\"\n",
    "fd_dark_std = \"examples/05_Multiple_Measurements/fd_dark_std.txt\"\n",
    "\n",
    "\n",
    "\n",
    "data = pk.reader.create_data(ref_file, sample_file, dark_file, fd_reference_std=fd_reference_std, fd_sample_std=fd_sample_std, fd_dark_std=fd_dark_std, reader='XY', sample_thickness=450e-6, sample_name=None)"
   ]
  },
  {
   "cell_type": "code",
   "execution_count": 3,
   "metadata": {},
   "outputs": [],
   "source": [
    "\n",
    "data.td_reference = data.linear_offset(data.td_reference)\n",
    "data.td_sample = data.linear_offset(data.td_sample)\n",
    "data.td_dark = data.linear_offset(data.td_dark)\n",
    "data.offset_time_to_reference_peak()\n",
    "data.window_traces(start=100, end=1500, windows='tukey', alpha=0.1)\n",
    "data.pad_zeros(zero_padding=4096)\n"
   ]
  },
  {
   "cell_type": "code",
   "execution_count": 5,
   "metadata": {},
   "outputs": [
    {
     "name": "stdout",
     "output_type": "stream",
     "text": [
      "Dash app running on http://127.0.0.1:8050/\n"
     ]
    },
    {
     "data": {
      "application/javascript": "window.open('http://127.0.0.1:8050/')",
      "text/plain": [
       "<IPython.core.display.Javascript object>"
      ]
     },
     "metadata": {},
     "output_type": "display_data"
    },
    {
     "name": "stderr",
     "output_type": "stream",
     "text": [
      "c:\\Users\\eenadbu\\PortableApps\\Git\\phoeniks\\phoeniks\\thz_data.py:297: RuntimeWarning:\n",
      "\n",
      "invalid value encountered in log\n",
      "\n",
      "c:\\Users\\eenadbu\\PortableApps\\Git\\phoeniks\\phoeniks\\thz_data.py:297: RuntimeWarning:\n",
      "\n",
      "invalid value encountered in log\n",
      "\n"
     ]
    }
   ],
   "source": [
    "# run iteractive interface\n",
    "data.generate_layout()\n",
    "data.app.run_server(jupyter_mode='tab')\n"
   ]
  },
  {
   "cell_type": "markdown",
   "metadata": {},
   "source": [
    "You can then used the save functionality to save a file in a range of formats, the first exports the data object as a pickle file "
   ]
  },
  {
   "cell_type": "code",
   "execution_count": 6,
   "metadata": {},
   "outputs": [
    {
     "name": "stdout",
     "output_type": "stream",
     "text": [
      "Instance of <phoeniks.thz_data.Data object at 0x00000220F75C5950> saved to .\\data.pkl using dill.\n"
     ]
    }
   ],
   "source": [
    "pk.save.save_data_to_pickle(data, \".\\data.pkl\")\n"
   ]
  },
  {
   "cell_type": "markdown",
   "metadata": {},
   "source": [
    "You can then reimport this pickle file and carry on processing"
   ]
  },
  {
   "cell_type": "code",
   "execution_count": 8,
   "metadata": {},
   "outputs": [
    {
     "name": "stdout",
     "output_type": "stream",
     "text": [
      "Instance of .\\data.pkl read in using dill.\n"
     ]
    }
   ],
   "source": [
    "data2 = pk.save.read_pickle_to_data('.\\data.pkl')"
   ]
  },
  {
   "cell_type": "markdown",
   "metadata": {},
   "source": [
    "Finally you can then save the frequency data to a text file"
   ]
  },
  {
   "cell_type": "code",
   "execution_count": 11,
   "metadata": {},
   "outputs": [],
   "source": [
    "pk.save.save_to_file(data, 'frequency_output.csv', Type ='frequency')"
   ]
  }
 ],
 "metadata": {
  "kernelspec": {
   "display_name": "development",
   "language": "python",
   "name": "python3"
  },
  "language_info": {
   "codemirror_mode": {
    "name": "ipython",
    "version": 3
   },
   "file_extension": ".py",
   "mimetype": "text/x-python",
   "name": "python",
   "nbconvert_exporter": "python",
   "pygments_lexer": "ipython3",
   "version": "3.11.9"
  }
 },
 "nbformat": 4,
 "nbformat_minor": 2
}
